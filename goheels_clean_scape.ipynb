{
 "cells": [
  {
   "cell_type": "code",
   "execution_count": 78,
   "metadata": {},
   "outputs": [],
   "source": [
    "import pandas as pd\n",
    "import numpy as np\n",
    "\n",
    "import json"
   ]
  },
  {
   "cell_type": "code",
   "execution_count": 79,
   "metadata": {},
   "outputs": [],
   "source": [
    "# Load the data\n",
    "data = json.load(open('scraped_players.json'))"
   ]
  },
  {
   "cell_type": "code",
   "execution_count": 80,
   "metadata": {},
   "outputs": [
    {
     "data": {
      "text/plain": [
       "{'Hometown / High School': 'Greensboro, N.C. / Wesleyan Christian Academy',\n",
       " 'Ht.': '6-6',\n",
       " 'Name': 'Theo Pinson',\n",
       " 'No.': '1',\n",
       " 'Pos.': 'F/G',\n",
       " 'Wt.': '220',\n",
       " 'Yr.': 'Sr.',\n",
       " 'bio': \"\\r\\n                        Biography\\r\\n                                                    \\r\\n                            CAREER\\r\\nOne of 12 Tar Heels to play in two national championship games • Played in 85 games with 21 starts • Has 377 points, 296 rebounds, 34 three-pointers, 229 assists and an assist/error ratio of 2.4 • Scored in double figures 10 times with highs of 13 vs. Clemson on 12/30/15 and Louisville on 2/22/17 • Has led UNC in assists 21 times.\\r\\n\\r\\n\\r\\nJUNOR SEASON (2016-17)\\r\\nAveraged 7.0 points, 8.5 rebounds and 3.5 assists in the wins over Oregon and Gonzaga in the Final Four • The 17 rebounds are the most he ever had in consecutive college games • Averaged 6.1 points, 4.6 rebounds and 3.7 assists in 21 games • Tar Heels went 18-3 in the 21 games he played • Missed 19 games over two different spans (sat out the first 16 games due to injury, returned to play in six, then missed three more games due to injury) • Had 77 assists and 31 turnovers\\xa0 (ratio of 2.5) • Had five or more assists seven times • Led the Tar Heels with 77 assists in his 21 games (14 more than Berry who had 63 in those 21 games) • Topped UNC in assists nine times • Averaged 4.3 assists in the last 11 games • Scored in double figures four times with a season-high of 13 vs. Louisville (which tied his career best) • Went 16 for 59 from the floor in the last 11 games • Made two three-pointers in the last 10 games • Made a season-high two three-pointers on 2/22 against Louisville • Averaged 27.4 minutes over the last 14 games • Played 30 minutes in four of the last nine games.\\r\\n\\r\\n\\r\\n2016-17 Game Highlights: Had six points, nine boards and two assists in the NCAA championship game vs. Gonzaga – assisted on Justin Jackson’s basket and three-point play with 1:40 to play that gave UNC the lead for good at 66-65 • Led UNC with five assists in the national semifinal vs. Oregon, but it was his offensive rebound after a missed free throw with five seconds to play that was one of the key plays in UNC’s win • Was his fourth offensive rebound, which tied his career high • Hit a three-pointer midway through the second half, his first “true” three in nine games (made one vs. Miami on 3/9 on a lob pass that went in the basket).\\r\\n\\r\\n\\r\\nPlayed a prominent role in the 75-73 NCAA South Regional final win over Kentucky – involved in four key sequences in the final five minutes • Began UNC’s comeback from its largest deficit (five points) with a tough angle, baseline floater that cut UK’s lead to 64-61 • Hit two free throws coming out of a timeout to give UNC the lead for good at 65-64 • Grabbed a defensive rebound and made both ends of a one-and-one for a 71-64 lead with 54 seconds to play • Dribbled three-quarters of the court and fed Luke Maye for the winning basket with less than a second to play after UK’s Malik Monk tied the game with seven seconds to play.\\r\\n\\r\\n\\r\\nTied his career high with eight assists in a career-high 34 minutes against Duke in the ACC semifinal • Had seven assists in late-season wins over Duke and Pitt • Tied his career scoring high with 13 points and grabbed six rebounds vs. Louisville – first time this year he made two three-pointers in a game (sixth multi-3FG game in his career) • First start of the season in the win at NC State, made a career-high six field goals and scored 12 points • Led UNC with seven rebounds and had six points and three assists at Duke • The 2/9 game at Duke was his first game after not playing vs. Miami, Pitt and Notre Dame due to injury • Came down awkwardly on his right ankle midway through the first half in the Virginia Tech game on 1/26 – left the game moments later and did not return the rest of that contest • Scored 11 points with five rebounds, three assists and no turnovers at Boston College – had three offensive rebounds (two for putback baskets) in a four-possession span around the 5:00 mark in which UNC scored all eight points on second chances • Had seven points, five rebounds, five assists and no turnovers vs. Syracuse • Was the third time in four games he led UNC in assists and the second time he did that in less than 15 minutes of action • First career double-double with 12 points, 10 rebounds and three assists in 96-83 win over Florida State • Electrified the crowd with a drive and dunk for his first field goal of the season that gave UNC a six-point lead with 5:47 to play, then hit his first three of the season with 2:16 to play that pushed UNC’s lead to double figures • Played his first game of the season on 1/8/17 vs. NC State • Played 13 minutes and had five rebounds, five assists (shared team lead) and led UNC with four of the Tar Heels’ 17 steals • Had surgery on 10/26/16 to repair a broken bone in his right foot • Began basketball activities the week after Christmas.\\r\\n\\r\\n\\r\\n\\r\\nSOPHOMORE SEASON (2015-16)\\r\\n\\r\\nThird on the team in assists with 115 • Led the team with an assist every 6.5 minutes of action • Led the Tar Heels in assists nine times • First UNC non-starter with 100 assists in a season since Quentin Thomas had 113 in 2008 • Assist-error ratio of 2.3/1 (115/49) • Five or more assists seven times • More assists than turnovers in 31 games • Scored in double figures six times • Made 18 three-pointers, including nine in the first six games • Started the first six games in the backcourt and the Feb. 9 game at Boston College at small forward • Tar Heels were 6-1 in his seven starts and 6-1 when he had five or more assists.\\r\\n\\r\\nGame Highlights\\r\\n\\r\\nHad five points and five rebounds in national semifinal vs. Syracuse • Scored six points with four assists in the regional final vs. Notre Dame • Second on the team in assists in the ACC Tournament with 11 • Had seven assists in 14 minutes vs. Pitt in the ACC QF and three assists and five rebounds vs. Notre Dame in the semifinals • Key figure in the win at Duke as he finished with six points, five rebounds and a team-high four assists • Two field goals both came on tip-ins, the latter of which broke the only tie of the game at 49-all • Made both ends of a 1-and-1 with 26 seconds to play with UNC holding a three-point lead • Defense against Cat Barber late in the first half helped UNC take the lead it would not relinquish in the win at NC State • Sparked Carolina’s win over Clemson with a career-high 13 points and six rebounds • Played 19 minutes, a number of them at the ‘4’ in the win vs. UCLA when UNC went ‘small’ • Scored in double figures in both games in Kansas City • Matched his career high with eight assists and hit a career-best three 3FGs against Northwestern • Grabbed a career-high nine rebounds against Temple • Set career highs in points (11) and assists (8) vs. Fairfield • First career game in double figures and had an assist-error ratio of 8/0 against Fairfield.\\r\\n\\r\\n\\r\\n\\r\\nFRESHMAN SEASON (2014-15)\\r\\n\\r\\nAveraged 12.5 minutes in 24 games • Missed 14 games, including 10 consecutive at one point, due to a broken left foot • Played 14 minutes in the post-season, all in the NCAA Tournament • Was unable to play in the ACC Tournament after aggravating the injury during practice the week of the ACC Tournament • Broke the fifth metatarsal in his left foot on January 21st at Wake Forest (the same bone he fractured in high school) • Missed the next 10 games before returning to action with five points in two minutes at Georgia Tech on 3/3 • Played seven minutes in the regular-season finale at home vs. Duke • At the time of his injury in January, he was fourth on the team (tops off the bench) in assists and rebounding • Scored a season-high seven points three times – against Davidson, UAB and home vs. Notre Dame • Had an assist-error ratio of 2.2 to 1 (37/17).\\r\\n\\r\\nGame Highlights: Grabbed five rebounds against Virginia Tech • Led Carolina in rebounding with eight and added seven points as he led second-half rally on 1/5 against Notre Dame • All of his points and rebounds vs. the Irish came in 12 second-half minutes • Entered the half with UNC down 11 with 12:50 to play and played all but the final 19 seconds • Also was UNC’s defensive player of the game vs. Notre Dame • Three-pointer, then offensive rebound and slam dunk sparked comeback • Led UNC (outright or shared) in assists three times, including four in 14 minutes at UNCG • Matched his season high in minutes with 20 against William and Mary and had four rebounds and four assists • Had seven points and three steals vs. UAB • Scored five points and had three assists vs. East Carolina • Did not score but had four rebounds and four assists in a season-high 20 minutes against Florida • Led Carolina with seven rebounds (four offensive) and had three assists against UCLA • Capped 43-29 lead going into the half with a last-second put back dunk • Scored a season-high seven points and hit his first three-pointer at Davidson • Had five assists and no turnovers against Robert Morris • Started his first collegiate game vs. NC Central and had four points, four assists and two steals.\\r\\n\\r\\nPREP\\r\\n\\r\\nPlayed for Coach Keith Gatlin at Wesleyan Christian Academy in High Point, N.C. •\\xa0Earned third-team USA Today All-America honors in 2014 •\\xa0Played in McDonald's All-America Game, Nike Hoop Summit and Jordan Brand Classic • Won two consecutive 3-A NCISAA state championships • Averaged 23 points as a senior • The Charlotte Observer's Mr. Basketball for North Carolina in 2014 • Won the Elite 24 dunk contest in 2013 • Played at Oak Ridge (N.C.) Military Academy as a freshman • Teamed with Justin Jackson to earn a gold medal for Team USA at FIBA Americas U-16 championship in 2011 in Mexico •\\xa0\\r\\n\\r\\nPERSONAL\\r\\n\\r\\nBorn Theophilus Alphonso Pinson on Nov. 5 • Son of Theo and Barbara Pinson • Majoring in communication studies • Wears No. 1 because it was his AAU number • Worked on his shooting in the offseason • Favorite former Tar Heel is Ty Lawson • Would love to have Kobe Bryant’s complete skill set on the court.\\r\\n\\r\\n\\r\\n\\r\\n                        \\r\\n                    \",\n",
       " 'href': '/roster.aspx?rp_id=13515',\n",
       " 'img': '/images/2017/9/12/Pinson_Theo_mb_2017_23.jpg?width=300',\n",
       " 'stats_url': 'http://goheels.com/services/responsive-roster-bio.ashx?type=stats&rp_id=13515&path=mbball&year=2017&player_id=4636'}"
      ]
     },
     "execution_count": 80,
     "metadata": {},
     "output_type": "execute_result"
    }
   ],
   "source": [
    "data[0]"
   ]
  },
  {
   "cell_type": "code",
   "execution_count": 81,
   "metadata": {},
   "outputs": [],
   "source": [
    "data_for_df = []"
   ]
  },
  {
   "cell_type": "code",
   "execution_count": 82,
   "metadata": {},
   "outputs": [],
   "source": [
    "for player in data:\n",
    "    for key, val in player.get('stats', {}).get('current_stats', {}).items():\n",
    "        stats_type = key.lower().split()[0]\n",
    "        name = player.get('Name')\n",
    "      \n",
    "        for stat in val:\n",
    "            stat['name'] = name\n",
    "            stat['stat_type'] = stats_type\n",
    "            data_for_df.append(stat)"
   ]
  },
  {
   "cell_type": "code",
   "execution_count": 83,
   "metadata": {},
   "outputs": [],
   "source": [
    "#make the data frame\n",
    "df = pd.DataFrame(data_for_df)"
   ]
  },
  {
   "cell_type": "code",
   "execution_count": null,
   "metadata": {},
   "outputs": [],
   "source": [
    "#print the data frame\n",
    "df"
   ]
  },
  {
   "cell_type": "code",
   "execution_count": 85,
   "metadata": {},
   "outputs": [],
   "source": [
    "df = df.apply(pd.to_numeric, errors='ignore')"
   ]
  },
  {
   "cell_type": "code",
   "execution_count": null,
   "metadata": {},
   "outputs": [],
   "source": [
    "df.drop('avg', axis=1, inplace=True)"
   ]
  },
  {
   "cell_type": "code",
   "execution_count": null,
   "metadata": {},
   "outputs": [],
   "source": [
    "by_player = df.groupby(('name', 'stat_type'))"
   ]
  },
  {
   "cell_type": "code",
   "execution_count": null,
   "metadata": {},
   "outputs": [],
   "source": [
    "df.loc[:, ('name', 'year', 'pts')]"
   ]
  },
  {
   "cell_type": "code",
   "execution_count": null,
   "metadata": {},
   "outputs": [],
   "source": []
  },
  {
   "cell_type": "code",
   "execution_count": null,
   "metadata": {},
   "outputs": [],
   "source": []
  }
 ],
 "metadata": {
  "kernelspec": {
   "display_name": "Python 3",
   "language": "python",
   "name": "python3"
  },
  "language_info": {
   "codemirror_mode": {
    "name": "ipython",
    "version": 3
   },
   "file_extension": ".py",
   "mimetype": "text/x-python",
   "name": "python",
   "nbconvert_exporter": "python",
   "pygments_lexer": "ipython3",
   "version": "3.6.3"
  }
 },
 "nbformat": 4,
 "nbformat_minor": 2
}
